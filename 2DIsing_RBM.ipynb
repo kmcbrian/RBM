{
 "cells": [
  {
   "cell_type": "markdown",
   "metadata": {},
   "source": [
    "<h1>Restricted Boltzmann Machine</h1>\n",
    "<h4>Copyright (c) 2018 Kristopher McBrian</h4>\n",
    "Trained to represent the probability distribution of the 2D Ising Model"
   ]
  },
  {
   "cell_type": "code",
   "execution_count": 64,
   "metadata": {},
   "outputs": [],
   "source": [
    "import numpy as np\n",
    "import matplotlib.pyplot as plt\n",
    "\n",
    "#Training Parameters -----------------------\n",
    "data_set_size = 10000\n",
    "batch_size = 20\n",
    "num_batches = data_set_size/batch_size\n",
    "num_epochs = 5\n",
    "learning_rate = 0.13"
   ]
  },
  {
   "cell_type": "code",
   "execution_count": 65,
   "metadata": {},
   "outputs": [],
   "source": [
    "#Model Parameters --------------------------\n",
    "\n",
    "#Visible layer structure\n",
    "n_v_r = 2\n",
    "n_v_c = 3\n",
    "N_v = n_v_r * n_v_c\n",
    "#Hidden Layer structure\n",
    "n_h_r = 1\n",
    "n_h_c = 9\n",
    "N_h = n_h_r * n_h_c"
   ]
  },
  {
   "cell_type": "code",
   "execution_count": 66,
   "metadata": {},
   "outputs": [],
   "source": [
    "#Array Initialization ----------------------\n",
    "width = np.sqrt(1./(N_v + N_h))\n",
    "W = np.random.uniform(low=-width/2., high=width/2., size=(N_v*N_h)).reshape((n_v_r, n_v_c, n_h_r, n_h_c))\n",
    "v_bias = np.ones(N_v).reshape(n_v_r, n_v_c)\n",
    "h_bias = np.ones(N_h).reshape(n_h_r, n_h_c)"
   ]
  },
  {
   "cell_type": "markdown",
   "metadata": {},
   "source": [
    "<h3>Obtaining the Training Set for the Restricted Boltzmann Machine</h3>\n",
    "<blockquote>\n",
    "    <p>Ising Model Hamiltonian</p>\n",
    "    <p>Metropolis-Hastings Algorithm</p>\n",
    "</blockquote>"
   ]
  },
  {
   "cell_type": "code",
   "execution_count": 67,
   "metadata": {},
   "outputs": [],
   "source": [
    "#Hamiltonian for 2D Ising Model\n",
    "#Calculates energy given a spin configuration\n",
    "def H(spin):\n",
    "    n_r,n_c  = spin.shape\n",
    "    spin = 2*spin - 1 #maps {0,1} to {-1,1}\n",
    "    H = 0.\n",
    "    for i in range(n_r):\n",
    "        for j in range(n_c):\n",
    "            if j+1 != n_c: #if next index is not out of bounds\n",
    "                H += spin[i,j]*spin[i,j+1]\n",
    "            if i+1 != n_r:\n",
    "                H += spin[i,j]*spin[i+1,j]\n",
    "    return -H\n",
    "\n",
    "def Met_Hast(n_v_r,n_v_c, T, num_iterations):\n",
    "        #Random spin configuration\n",
    "        spin = 2* np.random.randint(2,size = (n_v_r,n_v_c)) - 1 #{0,1} --> {-1,1}\n",
    "        E = H(spin)\n",
    "        data_set = np.zeros((num_iterations, n_v_r,n_v_c),dtype=int)\n",
    "        \n",
    "        for i in range(num_iterations):\n",
    "            #Choose random coordinate on 2d lattice to flip\n",
    "            x = np.random.randint(n_v_r)\n",
    "            y = np.random.randint(n_v_c)\n",
    "            spin[x,y] *= -1\n",
    "            \n",
    "            #Calculate energy change due to flipped spin\n",
    "            neighbors = 0.\n",
    "            if x != 0:\n",
    "                neighbors += spin[x-1,y]\n",
    "            if x != (n_v_r-1):\n",
    "                neighbors += spin[x+1,y]\n",
    "            if y != 0:\n",
    "                neighbors += spin[x,y-1]\n",
    "            if y != (n_v_c-1):\n",
    "                neighbors += spin[x,y+1]\n",
    "\n",
    "            dE = -2*spin[x,y]*neighbors\n",
    "\n",
    "            #Accept or reject the flipped site\n",
    "            if np.random.random() < np.exp(-dE/T):\n",
    "                E += dE\n",
    "            else:\n",
    "                spin[x,y] *= -1\n",
    "\n",
    "            #Add spin configuration to data set\n",
    "            np.copyto(data_set[i,:,:], spin)\n",
    "        return (data_set+1)/2 #{-1,1} --> {0,1}\n",
    "\n",
    "T = 1. #Temperature of System\n",
    "data_set = Met_Hast(n_v_r, n_v_c, T, data_set_size)\n",
    "np.random.shuffle(data_set)"
   ]
  },
  {
   "cell_type": "markdown",
   "metadata": {},
   "source": [
    "Obtain the probability distribution represented by the RBM and the exact model"
   ]
  },
  {
   "cell_type": "code",
   "execution_count": 68,
   "metadata": {},
   "outputs": [],
   "source": [
    "def p_model(W, v_bias, h_bias, v_set):\n",
    "    n_spin = len(v_set[0,0,:])\n",
    "    n_v_r,n_v_c = v_bias.shape\n",
    "    n_h_r,n_h_c = h_bias.shape\n",
    "    p_model = np.zeros(n_spin)\n",
    "\n",
    "    for spin in range(n_spin):\n",
    "        c_ = 0.\n",
    "        a_ = np.sum(v_bias*v_set[:,:,spin])\n",
    "        for i in range(n_h_r):\n",
    "            for j in range(n_h_c):\n",
    "                b_ = np.sum(np.multiply(W[:,:,i,j], v_set[:,:,spin]))\n",
    "                c_ += np.log(1 + np.exp(h_bias[i,j] + b_))\n",
    "        p_model[spin] = np.exp(a_ + c_)\n",
    "    Z = float(np.sum(p_model))\n",
    "    return p_model/Z\n",
    "\n",
    "def p_s(size, T):\n",
    "    #size: tuple - (n_r, n_c)\n",
    "    #Used in exact Hamiltonian models\n",
    "    #   -calculate e^-(H(sig)/T) /Z\n",
    "    N = size[0]*size[1]\n",
    "    p_model = np.zeros(2**N)\n",
    "    v_set = np.zeros((size[0],size[1],2**N)) #set of all possible spin configurations\n",
    "    for i in range(len(p_model)):\n",
    "\n",
    "        np.copyto(v_set[:,:,i], np.array([int(x) for x in np.binary_repr(i,width=N)]).reshape(size))\n",
    "        p_model[i] = np.exp(-H(v_set[:,:,i])/T)\n",
    "    Z = np.sum(p_model)\n",
    "    return p_model/Z, v_set\n",
    "\n",
    "\n",
    "p_exact,v_set = p_s((n_v_r, n_v_c), T)\n",
    "p_model_before_train = p_model(W, v_bias, h_bias, v_set)"
   ]
  },
  {
   "cell_type": "markdown",
   "metadata": {},
   "source": [
    "<h2>Gibb's Sampling</h2>\n",
    "Called in the Train Function\n",
    "<blockquote>\n",
    "    <p>Calculate the probability that each hidden node has a value of 1, sampled against binomial distribution</p>\n",
    "    <p>Calculate the probability that each visible node has a value of 1, sampled against binomial distribuition</p>\n",
    "    <p>repeat k times</p>\n",
    "</blockquote>"
   ]
  },
  {
   "cell_type": "code",
   "execution_count": 69,
   "metadata": {},
   "outputs": [],
   "source": [
    "k = 5\n",
    "\n",
    "def gibbs_sampling(k, v_0, W, v_bias, h_bias):\n",
    "    v_k = np.zeros_like(v_0)\n",
    "    h_0 = np.zeros_like(h_bias)\n",
    "    h_k = np.zeros_like(h_bias)\n",
    "\n",
    "    h_0 = gibbs_vtoh(W, v_0, h_bias)\n",
    "    v_k = gibbs_htov(W, h_0, v_bias)\n",
    "    for i in range(k):\n",
    "        h_k = gibbs_vtoh(W, v_k, h_bias)\n",
    "        v_k = gibbs_htov(W, h_k, v_bias)\n",
    "    return v_k, h_0, h_k\n",
    "\n",
    "\n",
    "def gibbs_vtoh(W, v, h_bias):\n",
    "    activation=np.zeros_like(h_bias)\n",
    "    for i in range(activation.shape[0]):\n",
    "        for j in range(activation.shape[1]):\n",
    "            activation[i,j] = sigmoid(h_bias[i,j] + np.sum(v*W[:,:,i,j]))\n",
    "\n",
    "    h_k = np.random.binomial(1,activation,size=activation.shape)\n",
    "    return h_k\n",
    "\n",
    "def gibbs_htov(W, h, v_bias):\n",
    "    activation=np.zeros_like(v_bias)\n",
    "    for i in range(activation.shape[0]):\n",
    "        for j in range(activation.shape[1]):\n",
    "            activation[i,j] = sigmoid(v_bias[i,j] + np.sum(h*W[i,j,:,:]))\n",
    "\n",
    "    v_k = np.random.binomial(1, activation, size=activation.shape)\n",
    "    return v_k\n",
    "\n",
    "def mult2dto4d(a,b):\n",
    "    #element by element multiplication\n",
    "    #Used to find change in weight values\n",
    "    c = np.zeros((a.shape[0], a.shape[1], b.shape[0], b.shape[1]))\n",
    "    for i in range(a.shape[0]):\n",
    "        for j in range(a.shape[1]):\n",
    "            for k in range(b.shape[0]):\n",
    "                for l in range(b.shape[1]):\n",
    "                    c[i,j,k,l] = a[i,j]*b[k,l]\n",
    "    return c"
   ]
  },
  {
   "cell_type": "markdown",
   "metadata": {},
   "source": [
    "<h2>Training using Stochastic Gradient Descent</h2>\n",
    "<blockquote>\n",
    "    <p>Update parameter based on derivative of Kullback-Leibler Divergence</p>\n",
    "    <p>Minimize the KL-Divergence</p>\n",
    "</blockquote>"
   ]
  },
  {
   "cell_type": "code",
   "execution_count": 70,
   "metadata": {},
   "outputs": [
    {
     "name": "stdout",
     "output_type": "stream",
     "text": [
      "Epoch: 0/4  Batch: 0/500\n",
      "Epoch: 0/4  Batch: 100/500\n",
      "Epoch: 0/4  Batch: 200/500\n",
      "Epoch: 0/4  Batch: 300/500\n",
      "Epoch: 0/4  Batch: 400/500\n",
      "Epoch: 1/4  Batch: 0/500\n",
      "Epoch: 1/4  Batch: 100/500\n",
      "Epoch: 1/4  Batch: 200/500\n",
      "Epoch: 1/4  Batch: 300/500\n",
      "Epoch: 1/4  Batch: 400/500\n",
      "Epoch: 2/4  Batch: 0/500\n",
      "Epoch: 2/4  Batch: 100/500\n",
      "Epoch: 2/4  Batch: 200/500\n",
      "Epoch: 2/4  Batch: 300/500\n",
      "Epoch: 2/4  Batch: 400/500\n",
      "Epoch: 3/4  Batch: 0/500\n",
      "Epoch: 3/4  Batch: 100/500\n",
      "Epoch: 3/4  Batch: 200/500\n",
      "Epoch: 3/4  Batch: 300/500\n",
      "Epoch: 3/4  Batch: 400/500\n",
      "Epoch: 4/4  Batch: 0/500\n",
      "Epoch: 4/4  Batch: 100/500\n",
      "Epoch: 4/4  Batch: 200/500\n",
      "Epoch: 4/4  Batch: 300/500\n",
      "Epoch: 4/4  Batch: 400/500\n"
     ]
    }
   ],
   "source": [
    "def sigmoid(x):\n",
    "    return 1./(1+np.exp(-x))\n",
    "\n",
    "def train(W, v_bias, h_bias, k, data_set, batch_size, num_batches, num_epochs, learning_rate):\n",
    "    #Gradient Descent Arrays\n",
    "    dW = np.zeros_like(W)\n",
    "    dv_bias = np.zeros_like(v_bias)\n",
    "    dh_bias = np.zeros_like(h_bias)\n",
    "\n",
    "    #Gibbs Sampling Arrays\n",
    "    v_0 = np.empty_like(v_bias, dtype=int)\n",
    "    v_k = np.empty_like(v_bias, dtype=int)\n",
    "    h_0 = np.empty_like(h_bias, dtype=int)\n",
    "    h_k = np.empty_like(h_bias, dtype=int)\n",
    "\n",
    "    num_data = data_set.shape[0]\n",
    "    start = np.random.randint(num_data)\n",
    "\n",
    "    for i_epoch in range(num_epochs):\n",
    "        for i_batches in range(num_batches):\n",
    "            dW *= 0.\n",
    "            dv_bias *= 0.\n",
    "            dh_bias *= 0.\n",
    "            for i_input in range(batch_size):\n",
    "                #gibbs sample\n",
    "                v_0 = data_set[(i_input + start + batch_size*i_batches) % num_data,:,:]\n",
    "                v_k, h_0, h_k = gibbs_sampling(k, v_0, W, v_bias, h_bias)\n",
    "\n",
    "                #assign dW, dv_bias, ...\n",
    "                dW += mult2dto4d(v_0, h_0) - mult2dto4d(v_k, h_k)\n",
    "                dv_bias += v_0 - v_k\n",
    "                dh_bias += h_0 - h_k\n",
    "\n",
    "            np.copyto(W, W + dW * learning_rate/batch_size)\n",
    "            np.copyto(v_bias, v_bias + dv_bias * learning_rate/batch_size)\n",
    "            np.copyto(h_bias, h_bias + dh_bias * learning_rate/batch_size)\n",
    "            if i_batches % 100 == 0:\n",
    "                print 'Epoch: %d/%d'%(i_epoch+1, num_epochs), ' Batch: %d/%d'%(i_batches, num_batches)\n",
    "    return W, v_bias, h_bias\n",
    "\n",
    "\n",
    "W, v_bias, h_bias = train(W, v_bias, h_bias, k, data_set, batch_size, num_batches, num_epochs, learning_rate)\n",
    "p_model_after_train = p_model(W, v_bias, h_bias, v_set)"
   ]
  },
  {
   "cell_type": "code",
   "execution_count": 71,
   "metadata": {},
   "outputs": [],
   "source": [
    "def KL_div(exact, model):\n",
    "    A = 0.\n",
    "    for i in range(len(exact)):\n",
    "        A +=  exact[i] * np.log(exact[i]/model[i])\n",
    "    return A\n",
    "\n",
    "KL_b = KL_div(p_exact, p_model_before_train)\n",
    "KL_a = KL_div(p_exact, p_model_after_train)"
   ]
  },
  {
   "cell_type": "code",
   "execution_count": 72,
   "metadata": {},
   "outputs": [
    {
     "data": {
      "image/png": "[encoded data removed]",
      "text/plain": [
       "<matplotlib.figure.Figure at 0x7f78d285b2d0>"
      ]
     },
     "metadata": {},
     "output_type": "display_data"
    }
   ],
   "source": [
    "plt.figure()\n",
    "\n",
    "plt.plot(p_exact, 'k--',label='Exact')\n",
    "plt.plot(p_model_before_train, label='Before Training: KL_Div:%.4f'%KL_b)\n",
    "plt.plot(p_model_after_train, label='After Training:KL_Div:%.4f'%KL_a)\n",
    "\n",
    "plt.yscale('log')\n",
    "plt.ylabel(\"Probability\")\n",
    "plt.xlabel(\"Spin Configuration\")\n",
    "plt.grid(True)\n",
    "plt.legend(loc='best')\n",
    "plt.show()"
   ]
  },
  {
   "cell_type": "markdown",
   "metadata": {},
   "source": [
    "<h3>Sources</h3>\n",
    "<blockquote>\n",
    "    <p>Torlai, Giacomo, and Roger G. Melko. \"Learning thermodynamics with Boltzmann machines.\" Physical Review B 94.16 (2016): 165134.</p>\n",
    "    <p>Hinton, Geoffrey E. \"Training products of experts by minimizing contrastive divergence.\" Neural computation 14.8 (2002): 1771-1800.</p>\n",
    "    <p>Morningstar, Alan, and Roger G. Melko. \"Deep learning the Ising model near criticality.\" arXiv preprint arXiv:1708.04622 (2017).</p>\n",
    "</blockquote>"
   ]
  },
  {
   "cell_type": "code",
   "execution_count": null,
   "metadata": {},
   "outputs": [],
   "source": []
  }
 ],
 "metadata": {
  "kernelspec": {
   "display_name": "Python 2",
   "language": "python",
   "name": "python2"
  },
  "language_info": {
   "codemirror_mode": {
    "name": "ipython",
    "version": 2
   },
   "file_extension": ".py",
   "mimetype": "text/x-python",
   "name": "python",
   "nbconvert_exporter": "python",
   "pygments_lexer": "ipython2",
   "version": "2.7.12"
  }
 },
 "nbformat": 4,
 "nbformat_minor": 2
}
